{
 "cells": [
  {
   "cell_type": "code",
   "execution_count": null,
   "metadata": {
    "scrolled": false
   },
   "outputs": [
    {
     "name": "stdout",
     "output_type": "stream",
     "text": [
      "Extracting data\\train-images-idx3-ubyte.gz\n",
      "Extracting data\\train-labels-idx1-ubyte.gz\n",
      "Extracting data\\t10k-images-idx3-ubyte.gz\n",
      "Extracting data\\t10k-labels-idx1-ubyte.gz\n",
      "Iter0,Testing Accuracy 0.9165\n",
      "Iter1,Testing Accuracy 0.9321\n",
      "Iter2,Testing Accuracy 0.9389\n",
      "Iter3,Testing Accuracy 0.944\n",
      "Iter4,Testing Accuracy 0.9487\n",
      "Iter5,Testing Accuracy 0.9521\n",
      "Iter6,Testing Accuracy 0.9554\n",
      "Iter7,Testing Accuracy 0.9569\n",
      "Iter8,Testing Accuracy 0.957\n",
      "Iter9,Testing Accuracy 0.9618\n",
      "Iter10,Testing Accuracy 0.9629\n",
      "Iter11,Testing Accuracy 0.9638\n",
      "Iter12,Testing Accuracy 0.9649\n",
      "Iter13,Testing Accuracy 0.9664\n",
      "Iter14,Testing Accuracy 0.9677\n",
      "Iter15,Testing Accuracy 0.9696\n",
      "Iter16,Testing Accuracy 0.9693\n",
      "Iter17,Testing Accuracy 0.9694\n"
     ]
    }
   ],
   "source": [
    "import tensorflow as tf\n",
    "\n",
    "#from tensorflow.example.tutorials.mnist import input_data\n",
    "import input_data #获取mnist数据集\n",
    "#载入数据及\n",
    "mnist = input_data.read_data_sets(\"data\",one_hot = True)\n",
    "\n",
    "#每个批次的大小\n",
    "batch_size = 100 #训练模型时，一次放入批次  即放入100张图片\n",
    "#计算一共有多少个批次\n",
    "n_batch = mnist.train.num_examples // batch_size #整除\n",
    "\n",
    "#定义两个placeholder\n",
    "x = tf.placeholder(tf.float32,[None,784]) #将图片转换为一个向量\n",
    "y = tf.placeholder(tf.float32,[None,10])\n",
    "\n",
    "\n",
    "#定义网络中间层\n",
    "W1 = tf.Variable(tf.truncated_normal([784,500],stddev=0.1))\n",
    "b1 = tf.Variable(tf.zeros([500])+0.1)\n",
    "L1 = tf.nn.tanh(tf.matmul(x,W1) + b1)\n",
    "\n",
    "\n",
    "W2 = tf.Variable(tf.truncated_normal([500,100],stddev=0.1))\n",
    "b2 = tf.Variable(tf.zeros([100])+0.1)\n",
    "L2 = tf.nn.tanh(tf.matmul(L1,W2) + b2)\n",
    "\n",
    "W3 = tf.Variable(tf.truncated_normal([100,10],stddev=0.1))\n",
    "b3 = tf.Variable(tf.zeros([10])+0.1)\n",
    "prediction = tf.nn.softmax(tf.matmul(L2,W3)+b3)\n",
    "\n",
    "#二次代价函数\n",
    "#oss = tf.reduce_mean(tf.square(y-prediction))\n",
    "loss = tf.reduce_mean(tf.nn.softmax_cross_entropy_with_logits(labels=y,logits=prediction))\n",
    "\n",
    "#1、使用梯度下降算法\n",
    "#train_step = tf.train.GradientDescentOptimizer(0.5).minimize(loss)\n",
    "\n",
    "train_step = tf.train.AdadeltaOptimizer(0.5).minimize(loss)\n",
    "\n",
    "\n",
    "#初始化变量\n",
    "init = tf.global_variables_initializer()\n",
    "\n",
    "#结果存放在一个布尔型列表中  如果预测值和真实值一样则返回true\n",
    "correct_prediction = tf.equal(tf.argmax(y,1),tf.argmax(prediction,1))#tf.argmax()表示求概率最大的数字的位置\n",
    "\n",
    "#求准确率\n",
    "accuracy = tf.reduce_mean(tf.cast(correct_prediction,tf.float32))#布尔值转换为float\n",
    "\n",
    "with tf.Session() as sess:\n",
    "    sess.run(init)\n",
    "    for epoch in range(30): #循环30个周期  一张图片训练30次\n",
    "        for batch in range(n_batch):\n",
    "            batch_xs,batch_ys= mnist.train.next_batch(batch_size) #将图片数据保存在batch_xs,标签保存在batch_ys\n",
    "            sess.run(train_step,feed_dict={x:batch_xs,y:batch_ys})\n",
    "            \n",
    "        test_acc = sess.run(accuracy,feed_dict={x:mnist.test.images,y:mnist.test.labels})\n",
    "        \n",
    "        print(\"Iter\"+str(epoch) + \",Testing Accuracy \" + str(test_acc))"
   ]
  },
  {
   "cell_type": "code",
   "execution_count": null,
   "metadata": {},
   "outputs": [],
   "source": []
  }
 ],
 "metadata": {
  "kernelspec": {
   "display_name": "Python 3",
   "language": "python",
   "name": "python3"
  },
  "language_info": {
   "codemirror_mode": {
    "name": "ipython",
    "version": 3
   },
   "file_extension": ".py",
   "mimetype": "text/x-python",
   "name": "python",
   "nbconvert_exporter": "python",
   "pygments_lexer": "ipython3",
   "version": "3.6.5"
  }
 },
 "nbformat": 4,
 "nbformat_minor": 2
}
